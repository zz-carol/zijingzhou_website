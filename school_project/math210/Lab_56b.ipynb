{
  "nbformat": 4,
  "nbformat_minor": 0,
  "metadata": {
    "colab": {
      "provenance": []
    },
    "kernelspec": {
      "name": "python3",
      "display_name": "Python 3"
    }
  },
  "cells": [
    {
      "cell_type": "markdown",
      "metadata": {
        "id": "bHi2H286paFN"
      },
      "source": [
        "# Lab 5.6b\n",
        "\n",
        "Goals:\n",
        " \n",
        "* Use `if` statements to control the flow of a program\n",
        "* Import and manipulate data from a CSV file\n",
        "* Compute the squared error of a linear approximation\n",
        "* Use `sympy` to calculate the line of best fit\n",
        "\n"
      ]
    },
    {
      "cell_type": "markdown",
      "metadata": {
        "id": "WEEEmHOILj7_"
      },
      "source": [
        "Here are your libraries.\n"
      ]
    },
    {
      "cell_type": "code",
      "metadata": {
        "id": "mZZqUPjspZGa"
      },
      "source": [
        "import numpy as np\n",
        "import urllib.request as request\n",
        "import matplotlib.pyplot as plt\n",
        "import csv\n",
        "import codecs\n",
        "import sympy"
      ],
      "execution_count": 1,
      "outputs": []
    },
    {
      "cell_type": "markdown",
      "metadata": {
        "id": "iZ7nrjlaWsmh"
      },
      "source": [
        "Here is the world development indicators data from 2018, compiled by the world bank."
      ]
    },
    {
      "cell_type": "code",
      "metadata": {
        "id": "JIssaNqyWz_E"
      },
      "source": [
        "# get a file from a website\n",
        "wdi=request.urlopen('https://math.emory.edu/~mpcarr/math210/labs/data/wdi.csv')\n",
        "# read that file as a csv file\n",
        "csvfile = csv.reader(codecs.iterdecode(wdi, 'utf-8'))\n",
        "# save the data in the csv file as a python list\n",
        "csv=list(csvfile)"
      ],
      "execution_count": 2,
      "outputs": []
    },
    {
      "cell_type": "markdown",
      "metadata": {
        "id": "ySdqG_cOW1ck"
      },
      "source": [
        "Here is the test function `isNumeric()` that you used in the prelab."
      ]
    },
    {
      "cell_type": "code",
      "metadata": {
        "id": "kWrISSrNW1GM"
      },
      "source": [
        "def isNumeric(s):\n",
        "   try:\n",
        "      s = float(s)\n",
        "      return True\n",
        "   except:\n",
        "      return False"
      ],
      "execution_count": 3,
      "outputs": []
    },
    {
      "cell_type": "markdown",
      "metadata": {
        "id": "42PbwtsuZjPR"
      },
      "source": [
        "In the Prelab, we used only the first two columns of the WDI data.  There are more columns though, and we can read their headers from the first row."
      ]
    },
    {
      "cell_type": "code",
      "metadata": {
        "colab": {
          "base_uri": "https://localhost:8080/"
        },
        "id": "xiX2AAOZZimx",
        "outputId": "2cc1f62a-856d-4e27-ef08-701cf56d09d5"
      },
      "source": [
        "csv[0]"
      ],
      "execution_count": 4,
      "outputs": [
        {
          "output_type": "execute_result",
          "data": {
            "text/plain": [
              "['Country Name',\n",
              " 'Country Code',\n",
              " 'Adjusted net national income per capita (current US$) [NY.ADJ.NNTY.PC.CD]',\n",
              " 'Adolescent fertility rate (births per 1,000 women ages 15-19) [SP.ADO.TFRT]',\n",
              " 'Adolescents out of school (% of lower secondary school age) [SE.SEC.UNER.LO.ZS]',\n",
              " 'Birth rate, crude (per 1,000 people) [SP.DYN.CBRT.IN]',\n",
              " 'Children out of school, primary [SE.PRM.UNER]',\n",
              " 'Fertility rate, total (births per woman) [SP.DYN.TFRT.IN]',\n",
              " 'Income share held by highest 20% [SI.DST.05TH.20]',\n",
              " 'Labor force participation rate, female (% of female population ages 15+) (national estimate) [SL.TLF.CACT.FE.NE.ZS]',\n",
              " 'Labor force participation rate, total (% of total population ages 15+) (national estimate) [SL.TLF.CACT.NE.ZS]',\n",
              " 'Life expectancy at birth, total (years) [SP.DYN.LE00.IN]',\n",
              " 'Literacy rate, adult total (% of people ages 15 and above) [SE.ADT.LITR.ZS]',\n",
              " 'Mobile cellular subscriptions (per 100 people) [IT.CEL.SETS.P2]',\n",
              " 'Oil rents (% of GDP) [NY.GDP.PETR.RT.ZS]',\n",
              " 'Prevalence of undernourishment (% of population) [SN.ITK.DEFC.ZS]',\n",
              " 'Prevalence of severe food insecurity in the population (%) [SN.ITK.SVFI.ZS]',\n",
              " 'Rural population (% of total population) [SP.RUR.TOTL.ZS]']"
            ]
          },
          "metadata": {},
          "execution_count": 4
        }
      ]
    },
    {
      "cell_type": "markdown",
      "metadata": {
        "id": "WVsGlmYkAfLR"
      },
      "source": [
        "# Questions\n",
        "Write answers to these questions using code and text blocks.  When you are satisfied, download and submit an .ipynb file to Gradescope."
      ]
    },
    {
      "cell_type": "markdown",
      "metadata": {
        "id": "OHo160_t0zfx"
      },
      "source": [
        "## Q1\n",
        "Pick two columns from the WDI data that sound interesting to you and that you would like to compare.  Pick a different pair than anyone else in your group.\n",
        "1. Create a pair of matching lists with the data from those columns.  Make sure\n",
        " * Your list contains numbers, not strings\n",
        " * Your list contains entries only for countries that had data for each column.\n",
        "2. Make a plot of your data.  Your plot should have a title and labelled axes (with units)."
      ]
    },
    {
      "cell_type": "code",
      "source": [
        "#1\n",
        "income=[]\n",
        "literacy=[]\n",
        "for row in csv: \n",
        "  if isNumeric(row[2]) and isNumeric(row[12]):\n",
        "    income.append(float(row[2]))\n",
        "    literacy.append(float(row[12]))\n",
        "print(income)\n",
        "print(literacy)\n",
        "\n",
        "#2\n",
        "ax=plt.axes()\n",
        "ax.set_title('Adult literacy rate vs Adjusted net national income per capita')\n",
        "ax.set_xlabel('Adult literacy rate (%)')\n",
        "ax.set_ylabel('Adjusted net national income per capita (US$)')\n",
        "ax.plot(literacy, income, 'o')"
      ],
      "metadata": {
        "colab": {
          "base_uri": "https://localhost:8080/",
          "height": 366
        },
        "id": "I95_hmmqlv9N",
        "outputId": "188b5ddb-caf9-4267-938b-97c6389891f6"
      },
      "execution_count": 10,
      "outputs": [
        {
          "output_type": "stream",
          "name": "stdout",
          "text": [
            "[458.370737755325, 4201.07708408373, 3098.85173284358, 9631.76369093399, 20094.2843705576, 1618.95996227485, 5153.21210115544, 1007.97267878576, 7483.43466888086, 24019.6100425007, 605.120341792894, 1212.50151730117, 435.555329117596, 7709.67155877119, 5132.97833076824, 1287.84030597507, 578.944087149238, 10783.8396374415, 3314.69966218809, 3216.67202704576, 5205.09943218893, 1461.73735287303, 16994.1722978617, 2141.25089204779, 1735.32939728826, 2998.69009203995, 28832.1420570298, 3863.09151572143, 6369.84562477643, 1406.61667270003, 31628.7677669658, 1006.93562920704, 13744.8993553751, 6399.60300692974, 442.958062692618, 8180.05195133283, 738.231712869656, 10369.3136522126, 7447.23892344743, 2553.4423325542, 7717.7598812142, 2792.13264153048, 4598.59406509694, 919.106999785744, 500.717008084981, 1586.94808869186, 9239.20648700826, 13259.6029547338, 4569.91530794285, 5520.04900171973, 18783.9804135535, 9716.21717542217, 8573.21338231173, 613.610383861716, 3569.48523873444, 1384.69974809866, 13472.3426380599, 435.397351660568, 50176.2369312917, 25698.3391481211, 3670.7593648522, 764.36080711332, 3262.7674446942, 5548.39682734503, 1370.95097379833, 4040.00900802959, 532.966980803265, 14118.8319543292, 1311.16725161925, 2834.92026389029, 2106.66192417329, 1128.28341666014]\n",
            "[43.019718170166, 98.1411514282227, 81.4078369140625, 99.0038681030273, 97.4641876220703, 73.9122009277344, 99.7565612792969, 42.3624000549316, 93.2275009155273, 97.214111328125, 41.2244491577148, 77.0710372924805, 37.3958206176758, 96.8408889770508, 95.0925064086914, 58.8170204162598, 80.2987594604492, 97.8637924194336, 89.0085983276367, 88.4193801879883, 84.6671600341797, 79.0396423339844, 97.9359512329102, 87.2052383422852, 74.3729934692383, 95.658561706543, 99.15576171875, 98.2271118164063, 99.7816314697266, 81.5349731445313, 96.0564727783203, 99.5859985351563, 99.8893127441406, 95.0694427490234, 74.8043212890625, 94.8544082641602, 35.4737701416016, 91.3253936767578, 95.3799133300781, 98.4231185913086, 98.8471832275391, 73.7500076293945, 91.5272674560547, 67.9084320068359, 35.0499992370605, 62.0160102844238, 95.6515274047852, 95.4118118286133, 94.0207977294922, 94.4082717895508, 96.1375885009766, 98.8444976806641, 99.7300567626953, 73.2155914306641, 99.0957717895508, 92.8166427612305, 95.8677062988281, 43.2063293457031, 97.344856262207, 98.4365005493164, 91.7098236083984, 60.6971817016602, 94.3832702636719, 93.7677612304688, 68.0668334960938, 99.4143676757813, 76.5274963378906, 98.703857421875, 99.9928894042969, 87.5063095092773, 95.0003814697266, 86.7479629516602]\n"
          ]
        },
        {
          "output_type": "execute_result",
          "data": {
            "text/plain": [
              "[<matplotlib.lines.Line2D at 0x7f6ac9e73550>]"
            ]
          },
          "metadata": {},
          "execution_count": 10
        },
        {
          "output_type": "display_data",
          "data": {
            "text/plain": [
              "<Figure size 432x288 with 1 Axes>"
            ],
            "image/png": "[encoded data removed]"
          },
          "metadata": {
            "needs_background": "light"
          }
        }
      ]
    },
    {
      "cell_type": "markdown",
      "metadata": {
        "id": "6gvhAaIzbgjR"
      },
      "source": [
        "## Q2\n",
        "\n",
        "Write and run code blocks that\n",
        "1. Define symbolic variables `m` and `b`\n",
        "2. Copy your `sqerror()` function from the prelab.\n",
        "3. Run the `sqerror()` function with your data from Q1 with coefficients `m` and `b`.  Save the result to `err`.\n",
        "4. Compute `err_m` and `err_b` the partial derivatives of `err`.\n",
        "5. Use `sympy.solvers.linsolve()` to find the `m` and `b` of the line of best fit.\n",
        "6. Make a plot of your data again, but this time include the line of best fit.\n",
        "\n"
      ]
    },
    {
      "cell_type": "code",
      "source": [
        "#1\n",
        "m=sympy.Symbol('m')\n",
        "b=sympy.Symbol('b')\n",
        "\n",
        "#2\n",
        "def sqerror(xvalues,yvalues,slope,intercept):\n",
        "  total=0\n",
        "  for i in range(len(xvalues)): \n",
        "    x=xvalues[i]\n",
        "    y=yvalues[i]\n",
        "    error=slope*x+intercept-y\n",
        "    total=total+error**2\n",
        "  return total\n",
        "\n",
        "#3\n",
        "err=sqerror(literacy,income,m,b)\n",
        "\n",
        "#4\n",
        "err_m=sympy.diff(err,m)\n",
        "err_b=sympy.diff(err,b)\n",
        "\n",
        "#5\n",
        "sympy.solvers.linsolve([err_m,err_b],(m,b))"
      ],
      "metadata": {
        "colab": {
          "base_uri": "https://localhost:8080/",
          "height": 37
        },
        "id": "QBq5FGD9l5RZ",
        "outputId": "a553d2ec-85cb-45f2-d045-14d4510ef76b"
      },
      "execution_count": 6,
      "outputs": [
        {
          "output_type": "execute_result",
          "data": {
            "text/plain": [
              "FiniteSet((207.35539353688, -10847.2686300605))"
            ],
            "text/latex": "$\\displaystyle \\left\\{\\left( 207.35539353688, \\  -10847.2686300605\\right)\\right\\}$"
          },
          "metadata": {},
          "execution_count": 6
        }
      ]
    },
    {
      "cell_type": "code",
      "source": [
        "#6\n",
        "x=np.arange(35,100)\n",
        "def l(x):\n",
        "  return (207.35539353688)*x - 10847.2686300605\n",
        "ax=plt.axes()\n",
        "ax.set_title('Adult literacy rate vs Adjusted net national income per capita')\n",
        "ax.set_xlabel('Adult literacy rate (%)')\n",
        "ax.set_ylabel('Adjusted net national income per capita (US$)')\n",
        "ax.plot(literacy, income, 'o')\n",
        "ax.plot(x, l(x))"
      ],
      "metadata": {
        "colab": {
          "base_uri": "https://localhost:8080/",
          "height": 312
        },
        "id": "KPyD5w1nqT0u",
        "outputId": "a98971c4-f2e1-4653-8cff-7c7078f2ca2c"
      },
      "execution_count": 11,
      "outputs": [
        {
          "output_type": "execute_result",
          "data": {
            "text/plain": [
              "[<matplotlib.lines.Line2D at 0x7f6ac9da7ed0>]"
            ]
          },
          "metadata": {},
          "execution_count": 11
        },
        {
          "output_type": "display_data",
          "data": {
            "text/plain": [
              "<Figure size 432x288 with 1 Axes>"
            ],
            "image/png": "[encoded data removed]"
          },
          "metadata": {
            "needs_background": "light"
          }
        }
      ]
    },
    {
      "cell_type": "markdown",
      "metadata": {
        "id": "LHm2FPpGcQ1N"
      },
      "source": [
        "## Q3\n",
        "Some data fits a linear model better than others. Since we already have an error function available, we can see how well the best line fits the data.\n",
        "\n",
        "1. Take the `m` and `b` values of best fit that you solved for in Q2.  Compute the `sqerror()` for those values.\n",
        "2. Compare to one or more of your groupmates.  Can you infer from your squared error whose data fits a line better?  What differences would you need to correct for in order to get a meaningful comparison?  Refer to specific differences between your datasets."
      ]
    },
    {
      "cell_type": "code",
      "source": [
        "#1\n",
        "sqerror(literacy, income, 207.35539353688, (-10847.2686300605))"
      ],
      "metadata": {
        "colab": {
          "base_uri": "https://localhost:8080/"
        },
        "id": "TzZiOq5gl58P",
        "outputId": "13b40062-e1e1-40d3-dbde-767d48c0f0f9"
      },
      "execution_count": 8,
      "outputs": [
        {
          "output_type": "execute_result",
          "data": {
            "text/plain": [
              "4358058011.304689"
            ]
          },
          "metadata": {},
          "execution_count": 8
        }
      ]
    },
    {
      "cell_type": "markdown",
      "source": [
        "One of my groupmates looked at adjusted net national income per capita and income share held by highest 20%. Her squared error is 1830.86. The other groupmate looked at fertility rate and female labor force rate. Her squared error is 14731.62. Both of their squared errors are smaller than mine, and by looking at her graph, the data of the first groupmate fit a line better.\n",
        "\n",
        "Since the sum of the squared errors is sensitive to how big the numbers in the data set are, given a data set (x,y) and the set of points (10x, 10y), the sum of the squared errors for this set is 100 times bigger. Thus, to make a meaningful comparison of the data, we should perform an appropriate normalisation technique for the data set. For example, we could scale the x and y values to a certain range. My y values are very big while, my groupmates have relatively smaller y values. "
      ],
      "metadata": {
        "id": "3iru-oxIrM7d"
      }
    },
    {
      "cell_type": "markdown",
      "metadata": {
        "id": "eWk3Ymf_sX7B"
      },
      "source": [
        "## Afterword:\n",
        "\n",
        "Of course, mathematicians figured out how to do this years ago. There are some slick algebra shortcuts that you'll learn in later statistics courses.  There are also pre-written algorithms for all of this.  Try this one, for instance. Check that it gives the same slope and intercept that you found.\n"
      ]
    },
    {
      "cell_type": "code",
      "metadata": {
        "id": "sLl4dx_PymqA",
        "colab": {
          "base_uri": "https://localhost:8080/"
        },
        "outputId": "102cb0ff-6b4b-484c-9f33-6407f246151e"
      },
      "source": [
        "from sklearn.linear_model import LinearRegression\n",
        "\n",
        "xvalues=literacy\n",
        "yvalues=income\n",
        "\n",
        "# refit the x data to be a column instead of a row\n",
        "x=np.array(xvalues).reshape((len(xvalues),1))\n",
        "y=np.array(yvalues)\n",
        "\n",
        "# create a linear regression object and fit it to x,y\n",
        "model=LinearRegression().fit(x,y)\n",
        "\n",
        "# print the coef and intercept methods from the object\n",
        "print(f'slope={model.coef_}')\n",
        "print(f'intercept={model.intercept_}')"
      ],
      "execution_count": 9,
      "outputs": [
        {
          "output_type": "stream",
          "name": "stdout",
          "text": [
            "slope=[207.35539354]\n",
            "intercept=-10847.26863006056\n"
          ]
        }
      ]
    }
  ]
}