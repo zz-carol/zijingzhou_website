{
  "nbformat": 4,
  "nbformat_minor": 0,
  "metadata": {
    "colab": {
      "provenance": [],
      "collapsed_sections": []
    },
    "kernelspec": {
      "name": "python3",
      "display_name": "Python 3"
    }
  },
  "cells": [
    {
      "cell_type": "markdown",
      "metadata": {
        "id": "H9uexyJcv5Ym"
      },
      "source": [
        "# Lab 1.3\n",
        "\n",
        "Goals:\n",
        "* Compute arithmetic expressions.\n",
        "* Define and use functions.\n",
        "* Graph functions.\n",
        "* Implement Newton's method.\n",
        "* Determine which properties of a function affect the speed of Newton's method."
      ]
    },
    {
      "cell_type": "markdown",
      "metadata": {
        "id": "RUD-70U3GRpT"
      },
      "source": [
        "### Instructions\n",
        "* With your group, work through each of the questions below.  Most questions include some discussion and some bullet-pointed instructions.  Make sure you carry out the bullet-pointed instructions, because that it what is graded.  \n",
        "* You are expected to collaborate with your group.  You should arrive at the answers to these questions together.  However, your submitted answers should be expressed in your own words.\n",
        "* If you need to pause, you can save and come back to your work later.  \n",
        "* When you are done, select \"download .ipynb\" from the file menu.  Save the ipynb to your computer, then upload it to the Lab assignment in gradescope.\n"
      ]
    },
    {
      "cell_type": "markdown",
      "metadata": {
        "id": "9g3kL9HcwgDU"
      },
      "source": [
        "We will begin by importing the libraries we use for graphing."
      ]
    },
    {
      "cell_type": "code",
      "metadata": {
        "id": "F8wEIdO3wfws"
      },
      "source": [
        "import matplotlib.pyplot as plt\n",
        "import numpy as np"
      ],
      "execution_count": 12,
      "outputs": []
    },
    {
      "cell_type": "markdown",
      "metadata": {
        "id": "qNOhsOpmxLyH"
      },
      "source": [
        "Define five algebraic functions by running this cell.  Each person in your group should pick a different one of these functions.  For the rest of the lab, \"your function\" refers to the function you picked. "
      ]
    },
    {
      "cell_type": "code",
      "metadata": {
        "id": "X1tu6QZFv2Hz"
      },
      "source": [
        "def f1(x):\n",
        "  return x**3 - 4*x**2 + 6*x - 2.5\n",
        "\n",
        "def f2(x):\n",
        "  return x**3 - 6*x**2 + 14*x - 10.5\n",
        "\n",
        "def f3(x):\n",
        "  return x**3 - 10*x**2 + 30*x - 26.5\n",
        "\n",
        "def f4(x):\n",
        "  return x**3 - 5*x**2 + 10*x - 6.5\n",
        "\n",
        "def f5(x):\n",
        "  return x**3 - 8*x**2 + 22*x - 18.5"
      ],
      "execution_count": 13,
      "outputs": []
    },
    {
      "cell_type": "markdown",
      "metadata": {
        "id": "Kr5nenYR0eJT"
      },
      "source": [
        "Your function has a root (x-intercept) near $x=2$, but it would be difficult to compute exactly.  Here's an idea.  We can make the linearization $L(x)$ of your function at $a=2$, and solve for the point where $L(x)=0$.  It won't be exactly the root of your function, but it should be a closer guess than $2$."
      ]
    },
    {
      "cell_type": "markdown",
      "metadata": {
        "id": "j-clb4YF0Z0S"
      },
      "source": [
        "### Q1\n",
        "\n",
        "* In a code cell below this, define a function `l(x)` which is the linearization of your function at $a=2$.  You can compute the derivative and value you need by hand, with a calculator, or in a code cell.\n",
        "* Create a graph using $x$ values near $2$ that contains your function and its linearization.  \n",
        "* You can restrict the height of the graph so that you can see the details better by calling `plt.ylim((-5,5))` before you call `plt.show()`."
      ]
    },
    {
      "cell_type": "code",
      "source": [
        "def l(x):\n",
        "  return f2(2)+(3*2**2-12*2+14)*(x-2)\n",
        "x=np.arange(0,3,0.1)\n",
        "plt.plot(x,f2(x))\n",
        "plt.plot(x,l(x))\n",
        "plt.grid()\n",
        "plt.ylim((-5,5))\n",
        "plt.show()"
      ],
      "metadata": {
        "colab": {
          "base_uri": "https://localhost:8080/",
          "height": 265
        },
        "id": "ULw_ZKLuiWWo",
        "outputId": "bfa7f4ff-035a-4ac6-b971-90837e3653ab"
      },
      "execution_count": 14,
      "outputs": [
        {
          "output_type": "display_data",
          "data": {
            "text/plain": [
              "<Figure size 432x288 with 1 Axes>"
            ],
            "image/png": "[encoded data removed]"
          },
          "metadata": {
            "needs_background": "light"
          }
        }
      ]
    },
    {
      "cell_type": "markdown",
      "metadata": {
        "id": "y0Jr9_sx12rS"
      },
      "source": [
        "### Q2\n",
        "Now we'll apply Newton's Method to your function.  You already have a function, but you need a derivative.  \n",
        "* Define a new function `df(x)` that returns the derivative of your function at `x`.\n",
        "* Copy your definition of `new(a)` from the prelab. \n",
        "* Modify `new(a)` to use your function, intead of `f` to compute the value it returns (or redefine `f` to be your function, either will work).\n",
        "* Test your code by running `new(2)`.  The result should be the $x$-intercept of the linearization you graphed in Q1.\n"
      ]
    },
    {
      "cell_type": "code",
      "source": [
        "def df(x):\n",
        "  return 3*x**2-12*x+14\n",
        "def new(a):\n",
        "    return a-(f2(a)/df(a))\n",
        "new(2)"
      ],
      "metadata": {
        "colab": {
          "base_uri": "https://localhost:8080/"
        },
        "id": "AXinrziwk5L_",
        "outputId": "b2539dbf-a3a0-42b0-eace-b197ca00c783"
      },
      "execution_count": 15,
      "outputs": [
        {
          "output_type": "execute_result",
          "data": {
            "text/plain": [
              "1.25"
            ]
          },
          "metadata": {},
          "execution_count": 15
        }
      ]
    },
    {
      "cell_type": "markdown",
      "metadata": {
        "id": "_RNm8ojL2hdN"
      },
      "source": [
        "### Q3\n",
        "\n",
        "We are now ready to repeatedly apply the `new()` function to get a very good approximation of the $x$-intercept of your function.  However, it is no fun to just spit out the answer.  Let's make it show us its steps. \n",
        "* Modify your definition of `new()`:\n",
        " * Instead of returning its output immediately, first save it to a variable `x`\n",
        " * Then print `x`\n",
        " * Then return `x`. \n",
        "* Apply your modified `new()` function 10 times to the intial guess $a=2$. It should print out 10 approximations before returning its final answer.\n",
        "\n",
        "You should notice that the last few approximations are remarkably close together.  That's because the approximations are so accurate that they cannot be improved upon much."
      ]
    },
    {
      "cell_type": "code",
      "source": [
        "def new(a):\n",
        "  x=a-(f2(a)/df(a))\n",
        "  print(x)\n",
        "  return x\n",
        "new(new(new(new(new(new(new(new(new(new(2))))))))))"
      ],
      "metadata": {
        "colab": {
          "base_uri": "https://localhost:8080/"
        },
        "id": "eAnN7KzEmoaw",
        "outputId": "9cdda768-5be9-4e93-fd33-7d6c5b6cb5d3"
      },
      "execution_count": 16,
      "outputs": [
        {
          "output_type": "stream",
          "name": "stdout",
          "text": [
            "1.25\n",
            "1.3644067796610169\n",
            "1.3731095022960544\n",
            "1.3731547229639598\n",
            "1.373154724173757\n",
            "1.373154724173757\n",
            "1.373154724173757\n",
            "1.373154724173757\n",
            "1.373154724173757\n",
            "1.373154724173757\n"
          ]
        },
        {
          "output_type": "execute_result",
          "data": {
            "text/plain": [
              "1.373154724173757"
            ]
          },
          "metadata": {},
          "execution_count": 16
        }
      ]
    },
    {
      "cell_type": "markdown",
      "metadata": {
        "id": "c9ytTejn32gC"
      },
      "source": [
        "###Q4\n",
        "\n",
        "We should assume that the final outcome of applying the `new` function 10 times is close enough to the actual root of your function.  Now the question is, how quickly did Newton's method get you close to that actual root?  To answer this you'll want to know the error in each approximation.\n",
        "\n",
        "* Copy the line in which you apply `new()` 10 times into a new code cell.  Instead of just printing the output, assign it to a variable called `actual`.\n",
        "* Modify your `new` function again.  This time, instead of printing the value of `x`, have it print difference between `x` and `actual` before returning `x`.\n",
        "* Apply the `new` function 10 times again to the intial guess $a=2$.  Look at the list of errors printed.  What do you notice?\n",
        "\n",
        "It may help you make sense of what you saw to know that python displays small numbers in scientific notation.  Furthermore, numbers in python are by default only stored to 32 decimal places.\n"
      ]
    },
    {
      "cell_type": "code",
      "source": [
        "def new(a):\n",
        "  return a-(f2(a)/df(a))\n",
        "actual=new(new(new(new(new(new(new(new(new(new(2))))))))))\n",
        "def new2(a):\n",
        "  x=a-(f2(a)/df(a))\n",
        "  print(actual-x)\n",
        "  return x\n",
        "new2(new2(new2(new2(new2(new2(new2(new2(new2(new2(2))))))))))"
      ],
      "metadata": {
        "colab": {
          "base_uri": "https://localhost:8080/"
        },
        "id": "c3dwpq5on9iE",
        "outputId": "e7de9180-f205-4ca9-ec23-d35ddaadd2e6"
      },
      "execution_count": null,
      "outputs": [
        {
          "output_type": "stream",
          "name": "stdout",
          "text": [
            "0.12315472417375695\n",
            "0.00874794451274008\n",
            "4.5221877702505964e-05\n",
            "1.2097971513469474e-09\n",
            "0.0\n",
            "0.0\n",
            "0.0\n",
            "0.0\n",
            "0.0\n",
            "0.0\n"
          ]
        },
        {
          "output_type": "execute_result",
          "data": {
            "text/plain": [
              "1.373154724173757"
            ]
          },
          "metadata": {},
          "execution_count": 20
        }
      ]
    },
    {
      "cell_type": "markdown",
      "metadata": {
        "id": "JOSltMrY5qpF"
      },
      "source": [
        "###Q5\n",
        "\n",
        "This is our main question:  \n",
        "\n",
        "> What properties of a function make Newton's method more or less efficient at finding a root?\n",
        "\n",
        "The method worked for everyone's function eventually, but some coverged more quickly than others.  They got closer to the actual value in fewer steps.  The purpose of this question is to systematically generate and compare data and to try to draw conclusions from that data.  Confer with your group and agree on an apporach to the following questions.  Report your decisions and findings in a combination of text and code cells.\n",
        "\n",
        "* How are you going to measure how quickly the method is converging?\n",
        "* Is everyone's root the same distance from their starting guess?  In order to get comparable data how can you control for the discrepancies here?\n",
        "* Generate and share the data about your respective functions.  Explain how quickly each person's function converges according the the measure you chose.\n",
        "* Make a conjecture about what underlying property of the functions or their graphs caused some to converge faster than others.  \n",
        "* For full credit, propose a reasonable mathematical explanation for why this property would have that effect.\n",
        "\n"
      ]
    },
    {
      "cell_type": "markdown",
      "source": [
        "1. The number of times we use new() when the x-interprets are the same.\n",
        "2. No, everyone's root is not the same distance from the starting guess (a =2). To control for the discrepanices, everyone can graph their functions and personlize their initial guess (choose a guess closer to their root other than 2). For example, if my function is x^3 - 4x^2 + 6x - 2.5, the root is less than 1, so I would have my initial guess to be 1."
      ],
      "metadata": {
        "id": "mRGt5VmmPmRi"
      }
    },
    {
      "cell_type": "code",
      "source": [
        "plt.plot(x,f1(x))\n",
        "plt.grid()\n",
        "plt.ylim((-5,5))\n",
        "plt.show()"
      ],
      "metadata": {
        "colab": {
          "base_uri": "https://localhost:8080/",
          "height": 265
        },
        "id": "c9f6yD-Uw-H5",
        "outputId": "be9b245a-4c12-4d7d-c427-fb400aae21a5"
      },
      "execution_count": 10,
      "outputs": [
        {
          "output_type": "display_data",
          "data": {
            "text/plain": [
              "<Figure size 432x288 with 1 Axes>"
            ],
            "image/png": "[encoded data removed]"
          },
          "metadata": {
            "needs_background": "light"
          }
        }
      ]
    },
    {
      "cell_type": "markdown",
      "source": [
        "3. My function f2(x) takes 5 times to get a close-enough x-interpret. Nikhil's function f4(x) takes 7 times. Salina's function f1(x) takes 8 times.\n",
        "4. We graphed the 3 fucntions. And according to the graph below, we proposed that the bigger the coefficients of the functions (when our initial guess is 2), the quicker each person's function converges."
      ],
      "metadata": {
        "id": "8gjlPrPxxQou"
      }
    },
    {
      "cell_type": "code",
      "source": [
        "plt.plot(x,f1(x)) #blue\n",
        "plt.plot(x,f2(x)) #orange\n",
        "plt.plot(x,f4(x)) #green\n",
        "plt.grid()\n",
        "plt.ylim((-5,5))\n",
        "plt.show()"
      ],
      "metadata": {
        "colab": {
          "base_uri": "https://localhost:8080/",
          "height": 265
        },
        "id": "UYKoJF1OxoSf",
        "outputId": "068b2383-c50f-4d01-c55b-e464385d15e0"
      },
      "execution_count": 14,
      "outputs": [
        {
          "output_type": "display_data",
          "data": {
            "text/plain": [
              "<Figure size 432x288 with 1 Axes>"
            ],
            "image/png": "[encoded data removed]"
          },
          "metadata": {
            "needs_background": "light"
          }
        }
      ]
    },
    {
      "cell_type": "markdown",
      "source": [
        "5. To test our conjecture, we applied the Newton's methond the other two functions, f3(x) and f5(x). f3(x) and f5(x) both take 7 times. According to our conjecture, f3(x) and f5(x) have larger coefficients than f3(x) and should converge faster. However, that is not the case here, and thus, our conjecture is wrong."
      ],
      "metadata": {
        "id": "wiq-ig02xqwL"
      }
    },
    {
      "cell_type": "code",
      "source": [
        "def df3(x):\n",
        "  return 3*x**2-20*x+30\n",
        "def new3(a):\n",
        "  x=a-(f3(a)/df3(a))\n",
        "  print(x)\n",
        "  return x\n",
        "new3(new3(new3(new3(new3(new3(new3(new3(new3(new3(2))))))))))"
      ],
      "metadata": {
        "colab": {
          "base_uri": "https://localhost:8080/"
        },
        "id": "svGi-JuG1Sxi",
        "outputId": "50f5a075-fa66-4456-d224-84a0394e9f7f"
      },
      "execution_count": 17,
      "outputs": [
        {
          "output_type": "stream",
          "name": "stdout",
          "text": [
            "1.25\n",
            "1.5258064516129033\n",
            "1.5960666861208594\n",
            "1.600685100786159\n",
            "1.600704679549041\n",
            "1.6007046799002875\n",
            "1.6007046799002889\n",
            "1.6007046799002889\n",
            "1.6007046799002889\n",
            "1.6007046799002889\n"
          ]
        },
        {
          "output_type": "execute_result",
          "data": {
            "text/plain": [
              "1.6007046799002889"
            ]
          },
          "metadata": {},
          "execution_count": 17
        }
      ]
    },
    {
      "cell_type": "code",
      "source": [
        "def df5(x):\n",
        "  return 3*x**2-16*x+22\n",
        "def new5(a):\n",
        "  x=a-(f5(a)/df5(a))\n",
        "  print(x)\n",
        "  return x\n",
        "new5(new5(new5(new5(new5(new5(new5(new5(new5(new5(2))))))))))"
      ],
      "metadata": {
        "colab": {
          "base_uri": "https://localhost:8080/"
        },
        "id": "VGYG6jC6Xk4b",
        "outputId": "bf5b715b-541b-47a9-8ae7-2d3e2b7b7050"
      },
      "execution_count": 7,
      "outputs": [
        {
          "output_type": "stream",
          "name": "stdout",
          "text": [
            "1.25\n",
            "1.4813084112149533\n",
            "1.5253516863509085\n",
            "1.5268409691718012\n",
            "1.5268426322797213\n",
            "1.5268426322817934\n",
            "1.5268426322817925\n",
            "1.5268426322817925\n",
            "1.5268426322817925\n",
            "1.5268426322817925\n"
          ]
        },
        {
          "output_type": "execute_result",
          "data": {
            "text/plain": [
              "1.5268426322817925"
            ]
          },
          "metadata": {},
          "execution_count": 7
        }
      ]
    },
    {
      "cell_type": "code",
      "source": [
        "plt.plot(x,f1(x)) #blue\n",
        "plt.plot(x,f2(x)) #orange\n",
        "plt.plot(x,f3(x)) #green\n",
        "plt.plot(x,f4(x)) #red\n",
        "plt.plot(x,f5(x)) #purple\n",
        "plt.grid()\n",
        "plt.ylim((-5,5))\n",
        "plt.show()"
      ],
      "metadata": {
        "colab": {
          "base_uri": "https://localhost:8080/",
          "height": 265
        },
        "id": "6h0sr2yPXspW",
        "outputId": "332ed12a-1f5e-4671-8d84-f7c2809e3b32"
      },
      "execution_count": 10,
      "outputs": [
        {
          "output_type": "display_data",
          "data": {
            "text/plain": [
              "<Figure size 432x288 with 1 Axes>"
            ],
            "image/png": "[encoded data removed]"
          },
          "metadata": {
            "needs_background": "light"
          }
        }
      ]
    },
    {
      "cell_type": "markdown",
      "source": [
        "With Newton's Method, we try to compute the x-intercept of the linear approximation of the function each time and use it to approximate the actual root of the original function. We think it could be related to the derivatives of the functions, in which the linear approximation will approach the actual root of the origional function quicker (and converges faster). "
      ],
      "metadata": {
        "id": "lwfTmKi_ZZIX"
      }
    }
  ]
}